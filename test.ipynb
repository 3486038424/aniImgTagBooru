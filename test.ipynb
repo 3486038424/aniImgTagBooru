{
 "cells": [
  {
   "cell_type": "code",
   "execution_count": null,
   "metadata": {},
   "outputs": [],
   "source": [
    "from PIL import Image\n",
    "import numpy as np\n",
    "import torch\n",
    "from torchvision.transforms import Resize,ToTensor,Pad\n",
    "from DanbooruTagger import DanbooruTagger\n",
    "import torch\n",
    "\n",
    "device = 'cpu'\n",
    "if torch.cuda.is_available():\n",
    "    device = 'cuda'\n",
    "print(device)"
   ]
  },
  {
   "cell_type": "code",
   "execution_count": null,
   "metadata": {},
   "outputs": [],
   "source": [
    "model=torch.load('tagImg3_ls.pt')\n",
    "model.to(device)\n",
    "\n",
    "transf = ToTensor()\n",
    "\n",
    "labels_file=\"tokens.txt\"\n",
    "\n",
    "all_labels=[]\n",
    "with open(labels_file, \"r\") as f:\n",
    "    all_labels = f.read().strip().split(\"\\n\")"
   ]
  },
  {
   "cell_type": "code",
   "execution_count": null,
   "metadata": {},
   "outputs": [],
   "source": [
    "image_file = '118591856_p0.jpg'\n",
    "    \n",
    "img = Image.open(image_file)\n",
    "if img.mode != 'RGB':\n",
    "    img = img.convert('RGB')\n",
    "maxlen=img.width if img.width > img.height else img.height\n",
    "img=Pad([int((maxlen-img.width)/2),int((maxlen-img.height)/2)],fill=(0,0,0),padding_mode='constant')(img)\n",
    "inputs=Resize((512,512))(img)\n",
    "inputs=transf(inputs).resize_([1,3,inputs.height,inputs.width])"
   ]
  },
  {
   "cell_type": "code",
   "execution_count": null,
   "metadata": {},
   "outputs": [],
   "source": [
    "import torch\n",
    "import matplotlib.pyplot as plt\n",
    "arrayImg = inputs.to('cpu').squeeze(0).numpy()\n",
    "\n",
    "plt.figure(figsize=(4, 4))\n",
    "plt.imshow(arrayImg.transpose(1, 2, 0))\n",
    "plt.axis('off')\n",
    "plt.show()\n"
   ]
  },
  {
   "cell_type": "code",
   "execution_count": null,
   "metadata": {},
   "outputs": [],
   "source": [
    "model.eval()\n",
    "transf = ToTensor()\n",
    "\n",
    "with torch.no_grad():\n",
    "    inputs=inputs.to(device)\n",
    "    outputs = model(inputs)\n",
    "    n=0\n",
    "    for k in range(len(outputs[0])):\n",
    "        if outputs[0][k]>=.4:\n",
    "            print(all_labels[k])\n",
    "            n+=1\n",
    "    print(n)\n",
    "torch.cuda.empty_cache()"
   ]
  }
 ],
 "metadata": {
  "kernelspec": {
   "display_name": "Python 3",
   "language": "python",
   "name": "python3"
  },
  "language_info": {
   "name": "python",
   "version": "3.11.6"
  }
 },
 "nbformat": 4,
 "nbformat_minor": 2
}
